{
 "cells": [
  {
   "cell_type": "code",
   "outputs": [],
   "source": [
    "import pandas as pd\n",
    "import os\n",
    "from sklearn.preprocessing import LabelEncoder\n",
    "from sklearn.model_selection import train_test_split\n",
    "from sklearn.ensemble import RandomForestClassifier\n",
    "from sklearn.svm import SVC\n",
    "from sklearn.metrics import accuracy_score, precision_score, recall_score, f1_score"
   ],
   "metadata": {
    "collapsed": false,
    "ExecuteTime": {
     "end_time": "2024-05-15T18:24:31.650887746Z",
     "start_time": "2024-05-15T18:24:31.607773115Z"
    }
   },
   "id": "107413583b2777ac",
   "execution_count": 13
  },
  {
   "cell_type": "code",
   "outputs": [],
   "source": [
    "data_path = \"depression_dataset/data\"\n",
    "\n",
    "# Dosya oku ve birleştir\n",
    "control_files = [f for f in os.listdir(os.path.join(data_path, \"control\")) if f.endswith('.csv')]\n",
    "condition_files = [f for f in os.listdir(os.path.join(data_path, \"condition\")) if f.endswith('.csv')]\n",
    "\n",
    "# Kontrol ve condition verilerini ayrı listelere yükle\n",
    "control_data = [pd.read_csv(os.path.join(data_path, \"control\", file)) for file in control_files]\n",
    "condition_data = [pd.read_csv(os.path.join(data_path, \"condition\", file)) for file in condition_files]"
   ],
   "metadata": {
    "collapsed": false,
    "ExecuteTime": {
     "end_time": "2024-05-15T18:24:33.045702222Z",
     "start_time": "2024-05-15T18:24:32.289286884Z"
    }
   },
   "id": "e6f12d5136e7f031",
   "execution_count": 14
  },
  {
   "cell_type": "code",
   "outputs": [],
   "source": [
    "# Her bir grup için hedef değişken\n",
    "for df in control_data:\n",
    "    df['target'] = 0\n",
    "\n",
    "for df in condition_data:\n",
    "    df['target'] = 1"
   ],
   "metadata": {
    "collapsed": false,
    "ExecuteTime": {
     "end_time": "2024-05-15T18:24:35.514720885Z",
     "start_time": "2024-05-15T18:24:35.505582153Z"
    }
   },
   "id": "8156588bf15aab9d",
   "execution_count": 15
  },
  {
   "cell_type": "code",
   "outputs": [
    {
     "data": {
      "text/plain": "         activity  target\n0               7       0\n1               5       0\n2               5       0\n3               5       0\n4               5       0\n...           ...     ...\n1571701         0       1\n1571702         0       1\n1571703       172       1\n1571704         0       1\n1571705         0       1\n\n[1571706 rows x 2 columns]",
      "text/html": "<div>\n<style scoped>\n    .dataframe tbody tr th:only-of-type {\n        vertical-align: middle;\n    }\n\n    .dataframe tbody tr th {\n        vertical-align: top;\n    }\n\n    .dataframe thead th {\n        text-align: right;\n    }\n</style>\n<table border=\"1\" class=\"dataframe\">\n  <thead>\n    <tr style=\"text-align: right;\">\n      <th></th>\n      <th>activity</th>\n      <th>target</th>\n    </tr>\n  </thead>\n  <tbody>\n    <tr>\n      <th>0</th>\n      <td>7</td>\n      <td>0</td>\n    </tr>\n    <tr>\n      <th>1</th>\n      <td>5</td>\n      <td>0</td>\n    </tr>\n    <tr>\n      <th>2</th>\n      <td>5</td>\n      <td>0</td>\n    </tr>\n    <tr>\n      <th>3</th>\n      <td>5</td>\n      <td>0</td>\n    </tr>\n    <tr>\n      <th>4</th>\n      <td>5</td>\n      <td>0</td>\n    </tr>\n    <tr>\n      <th>...</th>\n      <td>...</td>\n      <td>...</td>\n    </tr>\n    <tr>\n      <th>1571701</th>\n      <td>0</td>\n      <td>1</td>\n    </tr>\n    <tr>\n      <th>1571702</th>\n      <td>0</td>\n      <td>1</td>\n    </tr>\n    <tr>\n      <th>1571703</th>\n      <td>172</td>\n      <td>1</td>\n    </tr>\n    <tr>\n      <th>1571704</th>\n      <td>0</td>\n      <td>1</td>\n    </tr>\n    <tr>\n      <th>1571705</th>\n      <td>0</td>\n      <td>1</td>\n    </tr>\n  </tbody>\n</table>\n<p>1571706 rows × 2 columns</p>\n</div>"
     },
     "execution_count": 16,
     "metadata": {},
     "output_type": "execute_result"
    }
   ],
   "source": [
    "# Verileri birleştir, tarih ve zaman tanımla\n",
    "data = pd.concat(control_data + condition_data, ignore_index=True)\n",
    "data = data.drop(columns=['timestamp', 'date'])\n",
    "data"
   ],
   "metadata": {
    "collapsed": false,
    "ExecuteTime": {
     "end_time": "2024-05-15T18:24:41.881703132Z",
     "start_time": "2024-05-15T18:24:41.728772962Z"
    }
   },
   "id": "93f3914a08d4116",
   "execution_count": 16
  },
  {
   "cell_type": "code",
   "outputs": [],
   "source": [
    "#Encoder\n",
    "if 'activity' in data.columns:\n",
    "    label_encoder = LabelEncoder()\n",
    "    data['activity'] = label_encoder.fit_transform(data['activity'])"
   ],
   "metadata": {
    "collapsed": false,
    "ExecuteTime": {
     "end_time": "2024-05-15T18:24:48.316859511Z",
     "start_time": "2024-05-15T18:24:48.210807223Z"
    }
   },
   "id": "2388e04dad0289a1",
   "execution_count": 17
  },
  {
   "cell_type": "code",
   "outputs": [],
   "source": [
    "# Veri setini böl \n",
    "X = data.drop(columns=['target'])\n",
    "y = data['target']\n",
    "\n",
    "# Test, train, val\n",
    "X_train, X_temp, y_train, y_temp = train_test_split(X, y, test_size=0.4, stratify=y, random_state=42)\n",
    "X_val, X_test, y_val, y_test = train_test_split(X_temp, y_temp, test_size=0.5, stratify=y_temp, random_state=42)"
   ],
   "metadata": {
    "collapsed": false,
    "ExecuteTime": {
     "end_time": "2024-05-15T18:24:50.230685833Z",
     "start_time": "2024-05-15T18:24:49.574534740Z"
    }
   },
   "id": "cdae1548377e0d2",
   "execution_count": 18
  },
  {
   "cell_type": "code",
   "outputs": [
    {
     "name": "stdout",
     "output_type": "stream",
     "text": [
      "Random Forest - Accuracy: 0.6628, Precision: 0.5909, Recall: 0.1282, F1-score: 0.2107\n"
     ]
    }
   ],
   "source": [
    "# Model tanımla\n",
    "models = {\n",
    "    \"Random Forest\": RandomForestClassifier(),\n",
    "    \"Support Vector Machine\": SVC()\n",
    "}\n",
    "\n",
    "# Modelleri eğitmi\n",
    "for model_name, model in models.items():\n",
    "    model.fit(X_train, y_train)\n",
    "    y_pred = model.predict(X_val)\n",
    "    print(f\"{model_name} - Accuracy: {accuracy_score(y_val, y_pred):.4f}, Precision: {precision_score(y_val, y_pred):.4f}, Recall: {recall_score(y_val, y_pred):.4f}, F1-score: {f1_score(y_val, y_pred):.4f}\")"
   ],
   "metadata": {
    "collapsed": false,
    "is_executing": true,
    "ExecuteTime": {
     "start_time": "2024-05-15T18:24:51.405460993Z"
    }
   },
   "id": "7603d55cf4ab6271"
  },
  {
   "cell_type": "code",
   "outputs": [],
   "source": [
    "# En iyi modeli seçip test seti üzerinde değerlendiriyoruz\n",
    "best_model = RandomForestClassifier()\n",
    "best_model.fit(X_train, y_train)\n",
    "y_test_pred = best_model.predict(X_test)"
   ],
   "metadata": {
    "collapsed": false,
    "is_executing": true
   },
   "id": "a2ea509dad641a2c"
  },
  {
   "cell_type": "code",
   "outputs": [],
   "source": [
    "# Test seti üzerinde performans değerlendirmesi\n",
    "print(f\"Test Set - Accuracy: {accuracy_score(y_test, y_test_pred):.4f}, Precision: {precision_score(y_test, y_test_pred):.4f}, Recall: {recall_score(y_test, y_test_pred):.4f}, F1-score: {f1_score(y_test, y_test_pred):.4f}\")"
   ],
   "metadata": {
    "collapsed": false,
    "is_executing": true
   },
   "id": "e995534dc819059d"
  },
  {
   "cell_type": "code",
   "outputs": [],
   "source": [],
   "metadata": {
    "collapsed": false
   },
   "id": "3f5d04342bc4801b"
  }
 ],
 "metadata": {
  "kernelspec": {
   "display_name": "Python 3",
   "language": "python",
   "name": "python3"
  },
  "language_info": {
   "codemirror_mode": {
    "name": "ipython",
    "version": 2
   },
   "file_extension": ".py",
   "mimetype": "text/x-python",
   "name": "python",
   "nbconvert_exporter": "python",
   "pygments_lexer": "ipython2",
   "version": "2.7.6"
  }
 },
 "nbformat": 4,
 "nbformat_minor": 5
}
